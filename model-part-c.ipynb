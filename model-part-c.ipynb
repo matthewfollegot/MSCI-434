{
 "cells": [
  {
   "cell_type": "markdown",
   "metadata": {},
   "source": [
    "## Assignment 1"
   ]
  },
  {
   "cell_type": "markdown",
   "metadata": {},
   "source": [
    "### Step 1: Import Gurobi"
   ]
  },
  {
   "cell_type": "code",
   "execution_count": 1,
   "metadata": {},
   "outputs": [],
   "source": [
    "import gurobipy as gp\n",
    "from gurobipy import GRB\n",
    "import random\n",
    "import csv\n",
    "import pprint"
   ]
  },
  {
   "cell_type": "code",
   "execution_count": 2,
   "metadata": {},
   "outputs": [],
   "source": [
    "warehouses = {\n",
    "    0:  \"thunder bay\",\n",
    "    1:  \"sudbury\",\n",
    "    2:  \"ottawa\",\n",
    "    3:  \"toronto\",\n",
    "    4:  \"kingston\",\n",
    "    5:  \"windsor\",\n",
    "    6:  \"niagara falls\",\n",
    "    7:  \"london\"\n",
    "}\n",
    "\n",
    "retailers = {\n",
    "    0:  \"vaughan\",\n",
    "    1:  \"brampton\",\n",
    "    2:  \"toronto\",\n",
    "    3:  \"mississauga\",\n",
    "    4:  \"kitchener\",\n",
    "    5:  \"hamilton\",\n",
    "    6:  \"leamington\",\n",
    "    7:  \"chatham kent\",\n",
    "    8:  \"sarnia\",\n",
    "    9:  \"stratford\",\n",
    "    10: \"bellville\",\n",
    "    11: \"peterborough\",\n",
    "    12: \"orillia\",\n",
    "    13: \"collingwood\",\n",
    "    14: \"oshawa\",\n",
    "    15: \"milton\",\n",
    "    16: \"brantford\",\n",
    "    17: \"st catherines\",\n",
    "    18: \"welland\",\n",
    "    19: \"woodstock\"\n",
    "}"
   ]
  },
  {
   "cell_type": "code",
   "execution_count": 3,
   "metadata": {},
   "outputs": [],
   "source": [
    "# # Debug Cell\n",
    "# print(distances)\n",
    "# for m in range(len(distances)):\n",
    "#     for n in range(len(distances[0])):\n",
    "#         print(f\"{warehouses[m]} -> {retailers[n]}: {distances[m][n]} km\" )"
   ]
  },
  {
   "cell_type": "markdown",
   "metadata": {},
   "source": [
    "---"
   ]
  },
  {
   "cell_type": "markdown",
   "metadata": {},
   "source": [
    "## a) Base Mathematical Model"
   ]
  },
  {
   "cell_type": "markdown",
   "metadata": {},
   "source": [
    "### Define Model"
   ]
  },
  {
   "cell_type": "code",
   "execution_count": 4,
   "metadata": {},
   "outputs": [],
   "source": [
    "m = gp.Model()"
   ]
  },
  {
   "cell_type": "markdown",
   "metadata": {},
   "source": [
    "### Sets"
   ]
  },
  {
   "cell_type": "code",
   "execution_count": 5,
   "metadata": {},
   "outputs": [],
   "source": [
    "P = ['Barrie', 'Cambridge']\n",
    "\n",
    "W = [w for w in warehouses.values()]\n",
    "\n",
    "R = [r for r in retailers.values()]"
   ]
  },
  {
   "cell_type": "markdown",
   "metadata": {},
   "source": [
    "### Parameters"
   ]
  },
  {
   "cell_type": "code",
   "execution_count": 6,
   "metadata": {},
   "outputs": [],
   "source": [
    "# Plant capacity\n",
    "Q_p = [1500, 1500]\n",
    "\n",
    "# Warehouse Capacity\n",
    "Q_w = [200, 400, 200, 800, 800, 400, 300, 600]\n",
    "\n",
    "# Warehouse Cost\n",
    "C_w = [90, 110, 150, 150, 90, 110, 110, 150]\n",
    "\n",
    "# Transportation Cost\n",
    "t = 0.187\n",
    "\n",
    "# Retailer Demand\n",
    "random.seed(20726975) # Matt's student ID\n",
    "d_r = [random.randint(10000,75000) for r in range(len(R))]\n",
    "\n",
    "# Distances\n",
    "distances = []\n",
    "\n",
    "with open ('distances.csv', newline='') as f:\n",
    "    reader = csv.reader(f, delimiter=' ')\n",
    "    for row in reader:\n",
    "        row = [float(distance) for distance in ', '.join(row).split(',')]\n",
    "        distances.append(row)\n",
    "\n",
    "D = [\n",
    "        [1441, 458, 483, 99.6, 343, 278, 129, 102],\n",
    "        [1290, 308, 460, 103, 332, 425, 197, 250]\n",
    "]\n",
    "\n",
    "# Carbon cap in tonnes\n",
    "carbon_cap = 805\n",
    "\n",
    "# Per km emissions in tonnes\n",
    "transportation_emissions_rate = 0.00167 / 1000\n",
    "\n",
    "# Emissions per plant p\n",
    "plant_emissions= [449, 268]\n",
    "\n",
    "# Emissions per warehouse w\n",
    "warehouse_emissions = [65, 80, 95, 95, 65, 80, 80, 95]\n",
    "\n",
    "# Big M\n",
    "big_m = 1.37 * 10 ** 8"
   ]
  },
  {
   "cell_type": "markdown",
   "metadata": {},
   "source": [
    "### Decision Variables"
   ]
  },
  {
   "cell_type": "code",
   "execution_count": 7,
   "metadata": {},
   "outputs": [],
   "source": [
    "# Number of products transported from plant p to warehouse w\n",
    "x1 = {}\n",
    "for p in range(len(P)):\n",
    "    for w in range(len(W)):\n",
    "        x1[p,w] = m.addVar(lb=0.0, obj=D[p][w]*t, vtype=GRB.INTEGER, name=\"x1_pw_\"+str(p)+str(w))\n",
    "\n",
    "# Number of products transported from warehouse w to retailer r\n",
    "x2 = {}\n",
    "for w in range(len(W)):\n",
    "    for r in range(len(R)):\n",
    "        x2[w,r] = m.addVar(lb=0.0, obj=distances[w][r]*d_r[r]*t, vtype=GRB.BINARY, name=\"x2_wr_\"+str(w)+str(r))\n",
    "\n",
    "# Binary variable for whether or not warehouse w is open\n",
    "y = {}\n",
    "for w in range(len(W)):\n",
    "    y[w] = m.addVar(obj=C_w[w]*1000, vtype=GRB.BINARY, name=\"y_\"+str(w))\n",
    "\n",
    "# Binary variable for whether or not plant p was used\n",
    "plant_used = {}\n",
    "for p in range(len(P)):\n",
    "    plant_used[p] = m.addVar(lb=0.0, vtype=GRB.BINARY, name=\"plant_used_\"+str(p))\n",
    "    \n",
    "    "
   ]
  },
  {
   "cell_type": "markdown",
   "metadata": {},
   "source": [
    "### Objective Function"
   ]
  },
  {
   "cell_type": "code",
   "execution_count": 8,
   "metadata": {},
   "outputs": [],
   "source": [
    "m.modelSense = GRB.MINIMIZE"
   ]
  },
  {
   "cell_type": "markdown",
   "metadata": {},
   "source": [
    "### Constraints"
   ]
  },
  {
   "cell_type": "code",
   "execution_count": 9,
   "metadata": {},
   "outputs": [],
   "source": [
    "# Single Allocation Constraint\n",
    "for r in range(len(R)):\n",
    "    single_alloc = 0\n",
    "    for w in range(len(W)):\n",
    "        single_alloc += x2[w,r]\n",
    "    m.addConstr(single_alloc, GRB.EQUAL, 1)\n",
    "\n",
    "# Plant Production Capacity Constraint\n",
    "for p in range(len(P)):\n",
    "    cap_prod = 0\n",
    "    for w in range(len(W)):\n",
    "        cap_prod += x1[p,w]\n",
    "    m.addConstr(cap_prod, GRB.LESS_EQUAL, Q_p[p]*1000)\n",
    "    \n",
    "# Warehouse Incoming Capacity Constraint\n",
    "for w in range(len(W)):\n",
    "    cap_in = 0\n",
    "    for p in range(len(P)):\n",
    "        cap_in += x1[p,w]\n",
    "    m.addConstr(cap_in, GRB.LESS_EQUAL, Q_w[w]*1000*y[w])\n",
    "\n",
    "# Warehouse Flow Constraint\n",
    "for w in range(len(W)):\n",
    "    flow_in = 0\n",
    "    flow_out = 0\n",
    "    for p in range(len(P)):\n",
    "        flow_in += x1[p,w]\n",
    "    for r in range(len(R)):\n",
    "        # binary * demand b.c. single alloc\n",
    "        flow_out += x2[w,r]*d_r[r]\n",
    "    m.addConstr(flow_in, GRB.EQUAL, flow_out)\n",
    "    \n",
    "# Carbon Cap Constraint - warehouse + plant + total distance travelled\n",
    "total_carbon = 0\n",
    "# # Emissions for all the warehouses that are open\n",
    "for w in range (len(W)):\n",
    "    total_carbon += y[w] * warehouse_emissions[w]   \n",
    "# Emissions for transportation between plant and warehouses\n",
    "for p in range(len(P)):\n",
    "    for w in range(len(W)):\n",
    "        total_carbon += x1[p,w] * transportation_emissions_rate * D[p][w]\n",
    "# Emissions for transportation between warehouses and retailers\n",
    "for w in range(len(W)):\n",
    "    for r in range(len(R)):\n",
    "        total_carbon += x2[w,r] * transportation_emissions_rate * d_r[r] * distances[w][r]\n",
    "## Emissions for plants, we're using big M to set a binary var to see whether or not things ar efine\n",
    "for p in range(len(P)):\n",
    "    shipped = 0\n",
    "    for w in range(len(W)):\n",
    "        shipped += x1[p,w]\n",
    "    m.addConstr(shipped >= plant_used[p])\n",
    "    m.addConstr(shipped <= big_m * plant_used[p])\n",
    "    total_carbon += plant_used[p] * plant_emissions[p]\n",
    "    \n",
    "m.addConstr(total_carbon, GRB.LESS_EQUAL, carbon_cap)\n",
    "\n",
    "m.update()"
   ]
  },
  {
   "cell_type": "markdown",
   "metadata": {},
   "source": [
    "### Solve the Model"
   ]
  },
  {
   "cell_type": "code",
   "execution_count": 10,
   "metadata": {},
   "outputs": [
    {
     "name": "stdout",
     "output_type": "stream",
     "text": [
      "Gurobi Optimizer version 9.0.1 build v9.0.1rc0 (mac64)\n",
      "Optimize a model with 43 rows, 186 columns and 598 nonzeros\n",
      "Model fingerprint: 0x6e7de5bd\n",
      "Variable types: 0 continuous, 186 integer (170 binary)\n",
      "Coefficient statistics:\n",
      "  Matrix range     [2e-04, 1e+08]\n",
      "  Objective range  [2e+01, 2e+07]\n",
      "  Bounds range     [1e+00, 1e+00]\n",
      "  RHS range        [1e+00, 2e+06]\n",
      "Warning: Model contains large matrix coefficients\n",
      "         Consider reformulating model or setting NumericFocus parameter\n",
      "         to avoid numerical issues.\n",
      "Presolve removed 2 rows and 0 columns\n",
      "Presolve time: 0.00s\n",
      "Presolved: 41 rows, 186 columns, 561 nonzeros\n",
      "Variable types: 0 continuous, 186 integer (170 binary)\n",
      "\n",
      "Root relaxation: objective 3.244311e+07, 35 iterations, 0.00 seconds\n",
      "\n",
      "    Nodes    |    Current Node    |     Objective Bounds      |     Work\n",
      " Expl Unexpl |  Obj  Depth IntInf | Incumbent    BestBd   Gap | It/Node Time\n",
      "\n",
      "     0     0 3.2443e+07    0    4          - 3.2443e+07      -     -    0s\n",
      "     0     0 3.3326e+07    0    9          - 3.3326e+07      -     -    0s\n",
      "H    0     0                    3.873220e+07 3.3326e+07  14.0%     -    0s\n",
      "\n",
      "Cutting planes:\n",
      "  Gomory: 2\n",
      "  Cover: 2\n",
      "  Implied bound: 2\n",
      "  Clique: 19\n",
      "  Flow cover: 8\n",
      "  Relax-and-lift: 1\n",
      "\n",
      "Explored 1 nodes (46 simplex iterations) in 0.04 seconds\n",
      "Thread count was 8 (of 8 available processors)\n",
      "\n",
      "Solution count 1: 3.87322e+07 \n",
      "\n",
      "Optimal solution found (tolerance 1.00e-04)\n",
      "Best objective 3.873220248780e+07, best bound 3.873220248780e+07, gap 0.0000%\n"
     ]
    }
   ],
   "source": [
    "m.optimize()"
   ]
  },
  {
   "cell_type": "code",
   "execution_count": 11,
   "metadata": {
    "scrolled": true
   },
   "outputs": [
    {
     "name": "stdout",
     "output_type": "stream",
     "text": [
      "[<gurobi.Var x1_pw_00 (value -0.0)>, <gurobi.Var x1_pw_01 (value -0.0)>, <gurobi.Var x1_pw_02 (value -0.0)>, <gurobi.Var x1_pw_03 (value -0.0)>, <gurobi.Var x1_pw_04 (value -0.0)>, <gurobi.Var x1_pw_05 (value -0.0)>, <gurobi.Var x1_pw_06 (value -0.0)>, <gurobi.Var x1_pw_07 (value -0.0)>, <gurobi.Var x1_pw_10 (value -0.0)>, <gurobi.Var x1_pw_11 (value 0.0)>, <gurobi.Var x1_pw_12 (value 0.0)>, <gurobi.Var x1_pw_13 (value 768614.0)>, <gurobi.Var x1_pw_14 (value 0.0)>, <gurobi.Var x1_pw_15 (value 0.0)>, <gurobi.Var x1_pw_16 (value 0.0)>, <gurobi.Var x1_pw_17 (value 161588.0)>, <gurobi.Var x2_wr_00 (value -0.0)>, <gurobi.Var x2_wr_01 (value -0.0)>, <gurobi.Var x2_wr_02 (value -0.0)>, <gurobi.Var x2_wr_03 (value -0.0)>, <gurobi.Var x2_wr_04 (value -0.0)>, <gurobi.Var x2_wr_05 (value -0.0)>, <gurobi.Var x2_wr_06 (value -0.0)>, <gurobi.Var x2_wr_07 (value -0.0)>, <gurobi.Var x2_wr_08 (value -0.0)>, <gurobi.Var x2_wr_09 (value -0.0)>, <gurobi.Var x2_wr_010 (value -0.0)>, <gurobi.Var x2_wr_011 (value -0.0)>, <gurobi.Var x2_wr_012 (value -0.0)>, <gurobi.Var x2_wr_013 (value -0.0)>, <gurobi.Var x2_wr_014 (value -0.0)>, <gurobi.Var x2_wr_015 (value -0.0)>, <gurobi.Var x2_wr_016 (value -0.0)>, <gurobi.Var x2_wr_017 (value -0.0)>, <gurobi.Var x2_wr_018 (value -0.0)>, <gurobi.Var x2_wr_019 (value -0.0)>, <gurobi.Var x2_wr_10 (value -0.0)>, <gurobi.Var x2_wr_11 (value -0.0)>, <gurobi.Var x2_wr_12 (value -0.0)>, <gurobi.Var x2_wr_13 (value -0.0)>, <gurobi.Var x2_wr_14 (value -0.0)>, <gurobi.Var x2_wr_15 (value -0.0)>, <gurobi.Var x2_wr_16 (value -0.0)>, <gurobi.Var x2_wr_17 (value -0.0)>, <gurobi.Var x2_wr_18 (value -0.0)>, <gurobi.Var x2_wr_19 (value -0.0)>, <gurobi.Var x2_wr_110 (value -0.0)>, <gurobi.Var x2_wr_111 (value -0.0)>, <gurobi.Var x2_wr_112 (value 0.0)>, <gurobi.Var x2_wr_113 (value 0.0)>, <gurobi.Var x2_wr_114 (value -0.0)>, <gurobi.Var x2_wr_115 (value -0.0)>, <gurobi.Var x2_wr_116 (value -0.0)>, <gurobi.Var x2_wr_117 (value -0.0)>, <gurobi.Var x2_wr_118 (value -0.0)>, <gurobi.Var x2_wr_119 (value -0.0)>, <gurobi.Var x2_wr_20 (value -0.0)>, <gurobi.Var x2_wr_21 (value -0.0)>, <gurobi.Var x2_wr_22 (value -0.0)>, <gurobi.Var x2_wr_23 (value -0.0)>, <gurobi.Var x2_wr_24 (value -0.0)>, <gurobi.Var x2_wr_25 (value -0.0)>, <gurobi.Var x2_wr_26 (value -0.0)>, <gurobi.Var x2_wr_27 (value -0.0)>, <gurobi.Var x2_wr_28 (value -0.0)>, <gurobi.Var x2_wr_29 (value -0.0)>, <gurobi.Var x2_wr_210 (value 0.0)>, <gurobi.Var x2_wr_211 (value 0.0)>, <gurobi.Var x2_wr_212 (value -0.0)>, <gurobi.Var x2_wr_213 (value -0.0)>, <gurobi.Var x2_wr_214 (value -0.0)>, <gurobi.Var x2_wr_215 (value -0.0)>, <gurobi.Var x2_wr_216 (value -0.0)>, <gurobi.Var x2_wr_217 (value -0.0)>, <gurobi.Var x2_wr_218 (value -0.0)>, <gurobi.Var x2_wr_219 (value -0.0)>, <gurobi.Var x2_wr_30 (value 1.0)>, <gurobi.Var x2_wr_31 (value 1.0)>, <gurobi.Var x2_wr_32 (value 1.0)>, <gurobi.Var x2_wr_33 (value 1.0)>, <gurobi.Var x2_wr_34 (value 1.0)>, <gurobi.Var x2_wr_35 (value 1.0)>, <gurobi.Var x2_wr_36 (value 0.0)>, <gurobi.Var x2_wr_37 (value 0.0)>, <gurobi.Var x2_wr_38 (value -0.0)>, <gurobi.Var x2_wr_39 (value 1.0)>, <gurobi.Var x2_wr_310 (value 1.0)>, <gurobi.Var x2_wr_311 (value 1.0)>, <gurobi.Var x2_wr_312 (value 1.0)>, <gurobi.Var x2_wr_313 (value 1.0)>, <gurobi.Var x2_wr_314 (value 1.0)>, <gurobi.Var x2_wr_315 (value 1.0)>, <gurobi.Var x2_wr_316 (value 1.0)>, <gurobi.Var x2_wr_317 (value 1.0)>, <gurobi.Var x2_wr_318 (value 1.0)>, <gurobi.Var x2_wr_319 (value 0.0)>, <gurobi.Var x2_wr_40 (value -0.0)>, <gurobi.Var x2_wr_41 (value -0.0)>, <gurobi.Var x2_wr_42 (value -0.0)>, <gurobi.Var x2_wr_43 (value -0.0)>, <gurobi.Var x2_wr_44 (value -0.0)>, <gurobi.Var x2_wr_45 (value -0.0)>, <gurobi.Var x2_wr_46 (value -0.0)>, <gurobi.Var x2_wr_47 (value -0.0)>, <gurobi.Var x2_wr_48 (value -0.0)>, <gurobi.Var x2_wr_49 (value -0.0)>, <gurobi.Var x2_wr_410 (value 0.0)>, <gurobi.Var x2_wr_411 (value -0.0)>, <gurobi.Var x2_wr_412 (value -0.0)>, <gurobi.Var x2_wr_413 (value -0.0)>, <gurobi.Var x2_wr_414 (value -0.0)>, <gurobi.Var x2_wr_415 (value -0.0)>, <gurobi.Var x2_wr_416 (value -0.0)>, <gurobi.Var x2_wr_417 (value -0.0)>, <gurobi.Var x2_wr_418 (value -0.0)>, <gurobi.Var x2_wr_419 (value -0.0)>, <gurobi.Var x2_wr_50 (value -0.0)>, <gurobi.Var x2_wr_51 (value -0.0)>, <gurobi.Var x2_wr_52 (value -0.0)>, <gurobi.Var x2_wr_53 (value -0.0)>, <gurobi.Var x2_wr_54 (value -0.0)>, <gurobi.Var x2_wr_55 (value -0.0)>, <gurobi.Var x2_wr_56 (value 0.0)>, <gurobi.Var x2_wr_57 (value 0.0)>, <gurobi.Var x2_wr_58 (value -0.0)>, <gurobi.Var x2_wr_59 (value -0.0)>, <gurobi.Var x2_wr_510 (value -0.0)>, <gurobi.Var x2_wr_511 (value -0.0)>, <gurobi.Var x2_wr_512 (value -0.0)>, <gurobi.Var x2_wr_513 (value -0.0)>, <gurobi.Var x2_wr_514 (value -0.0)>, <gurobi.Var x2_wr_515 (value -0.0)>, <gurobi.Var x2_wr_516 (value -0.0)>, <gurobi.Var x2_wr_517 (value -0.0)>, <gurobi.Var x2_wr_518 (value -0.0)>, <gurobi.Var x2_wr_519 (value -0.0)>, <gurobi.Var x2_wr_60 (value -0.0)>, <gurobi.Var x2_wr_61 (value -0.0)>, <gurobi.Var x2_wr_62 (value -0.0)>, <gurobi.Var x2_wr_63 (value -0.0)>, <gurobi.Var x2_wr_64 (value -0.0)>, <gurobi.Var x2_wr_65 (value -0.0)>, <gurobi.Var x2_wr_66 (value -0.0)>, <gurobi.Var x2_wr_67 (value -0.0)>, <gurobi.Var x2_wr_68 (value -0.0)>, <gurobi.Var x2_wr_69 (value -0.0)>, <gurobi.Var x2_wr_610 (value -0.0)>, <gurobi.Var x2_wr_611 (value -0.0)>, <gurobi.Var x2_wr_612 (value -0.0)>, <gurobi.Var x2_wr_613 (value 0.0)>, <gurobi.Var x2_wr_614 (value -0.0)>, <gurobi.Var x2_wr_615 (value -0.0)>, <gurobi.Var x2_wr_616 (value -0.0)>, <gurobi.Var x2_wr_617 (value 0.0)>, <gurobi.Var x2_wr_618 (value 0.0)>, <gurobi.Var x2_wr_619 (value -0.0)>, <gurobi.Var x2_wr_70 (value -0.0)>, <gurobi.Var x2_wr_71 (value -0.0)>, <gurobi.Var x2_wr_72 (value -0.0)>, <gurobi.Var x2_wr_73 (value -0.0)>, <gurobi.Var x2_wr_74 (value -0.0)>, <gurobi.Var x2_wr_75 (value -0.0)>, <gurobi.Var x2_wr_76 (value 1.0)>, <gurobi.Var x2_wr_77 (value 1.0)>, <gurobi.Var x2_wr_78 (value 1.0)>, <gurobi.Var x2_wr_79 (value -0.0)>, <gurobi.Var x2_wr_710 (value -0.0)>, <gurobi.Var x2_wr_711 (value -0.0)>, <gurobi.Var x2_wr_712 (value -0.0)>, <gurobi.Var x2_wr_713 (value -0.0)>, <gurobi.Var x2_wr_714 (value -0.0)>, <gurobi.Var x2_wr_715 (value -0.0)>, <gurobi.Var x2_wr_716 (value -0.0)>, <gurobi.Var x2_wr_717 (value -0.0)>, <gurobi.Var x2_wr_718 (value -0.0)>, <gurobi.Var x2_wr_719 (value 1.0)>, <gurobi.Var y_0 (value 0.0)>, <gurobi.Var y_1 (value 0.0)>, <gurobi.Var y_2 (value 0.0)>, <gurobi.Var y_3 (value 1.0)>, <gurobi.Var y_4 (value 0.0)>, <gurobi.Var y_5 (value 0.0)>, <gurobi.Var y_6 (value 0.0)>, <gurobi.Var y_7 (value 1.0)>, <gurobi.Var plant_used_0 (value -0.0)>, <gurobi.Var plant_used_1 (value 1.0)>]\n"
     ]
    }
   ],
   "source": [
    "# print(y)\n",
    "# print(x1)\n",
    "# print(x2)\n",
    "print(m.getVars())"
   ]
  },
  {
   "cell_type": "code",
   "execution_count": 12,
   "metadata": {
    "scrolled": false
   },
   "outputs": [
    {
     "name": "stdout",
     "output_type": "stream",
     "text": [
      "x1_pw_00 -0\n",
      "x1_pw_01 -0\n",
      "x1_pw_02 -0\n",
      "x1_pw_03 -0\n",
      "x1_pw_04 -0\n",
      "x1_pw_05 -0\n",
      "x1_pw_06 -0\n",
      "x1_pw_07 -0\n",
      "x1_pw_10 -0\n",
      "x1_pw_11 0\n",
      "x1_pw_12 0\n",
      "x1_pw_13 768614\n",
      "x1_pw_14 0\n",
      "x1_pw_15 0\n",
      "x1_pw_16 0\n",
      "x1_pw_17 161588\n",
      "x2_wr_00 -0\n",
      "x2_wr_01 -0\n",
      "x2_wr_02 -0\n",
      "x2_wr_03 -0\n",
      "x2_wr_04 -0\n",
      "x2_wr_05 -0\n",
      "x2_wr_06 -0\n",
      "x2_wr_07 -0\n",
      "x2_wr_08 -0\n",
      "x2_wr_09 -0\n",
      "x2_wr_010 -0\n",
      "x2_wr_011 -0\n",
      "x2_wr_012 -0\n",
      "x2_wr_013 -0\n",
      "x2_wr_014 -0\n",
      "x2_wr_015 -0\n",
      "x2_wr_016 -0\n",
      "x2_wr_017 -0\n",
      "x2_wr_018 -0\n",
      "x2_wr_019 -0\n",
      "x2_wr_10 -0\n",
      "x2_wr_11 -0\n",
      "x2_wr_12 -0\n",
      "x2_wr_13 -0\n",
      "x2_wr_14 -0\n",
      "x2_wr_15 -0\n",
      "x2_wr_16 -0\n",
      "x2_wr_17 -0\n",
      "x2_wr_18 -0\n",
      "x2_wr_19 -0\n",
      "x2_wr_110 -0\n",
      "x2_wr_111 -0\n",
      "x2_wr_112 0\n",
      "x2_wr_113 0\n",
      "x2_wr_114 -0\n",
      "x2_wr_115 -0\n",
      "x2_wr_116 -0\n",
      "x2_wr_117 -0\n",
      "x2_wr_118 -0\n",
      "x2_wr_119 -0\n",
      "x2_wr_20 -0\n",
      "x2_wr_21 -0\n",
      "x2_wr_22 -0\n",
      "x2_wr_23 -0\n",
      "x2_wr_24 -0\n",
      "x2_wr_25 -0\n",
      "x2_wr_26 -0\n",
      "x2_wr_27 -0\n",
      "x2_wr_28 -0\n",
      "x2_wr_29 -0\n",
      "x2_wr_210 0\n",
      "x2_wr_211 0\n",
      "x2_wr_212 -0\n",
      "x2_wr_213 -0\n",
      "x2_wr_214 -0\n",
      "x2_wr_215 -0\n",
      "x2_wr_216 -0\n",
      "x2_wr_217 -0\n",
      "x2_wr_218 -0\n",
      "x2_wr_219 -0\n",
      "x2_wr_30 1\n",
      "x2_wr_31 1\n",
      "x2_wr_32 1\n",
      "x2_wr_33 1\n",
      "x2_wr_34 1\n",
      "x2_wr_35 1\n",
      "x2_wr_36 0\n",
      "x2_wr_37 0\n",
      "x2_wr_38 -0\n",
      "x2_wr_39 1\n",
      "x2_wr_310 1\n",
      "x2_wr_311 1\n",
      "x2_wr_312 1\n",
      "x2_wr_313 1\n",
      "x2_wr_314 1\n",
      "x2_wr_315 1\n",
      "x2_wr_316 1\n",
      "x2_wr_317 1\n",
      "x2_wr_318 1\n",
      "x2_wr_319 0\n",
      "x2_wr_40 -0\n",
      "x2_wr_41 -0\n",
      "x2_wr_42 -0\n",
      "x2_wr_43 -0\n",
      "x2_wr_44 -0\n",
      "x2_wr_45 -0\n",
      "x2_wr_46 -0\n",
      "x2_wr_47 -0\n",
      "x2_wr_48 -0\n",
      "x2_wr_49 -0\n",
      "x2_wr_410 0\n",
      "x2_wr_411 -0\n",
      "x2_wr_412 -0\n",
      "x2_wr_413 -0\n",
      "x2_wr_414 -0\n",
      "x2_wr_415 -0\n",
      "x2_wr_416 -0\n",
      "x2_wr_417 -0\n",
      "x2_wr_418 -0\n",
      "x2_wr_419 -0\n",
      "x2_wr_50 -0\n",
      "x2_wr_51 -0\n",
      "x2_wr_52 -0\n",
      "x2_wr_53 -0\n",
      "x2_wr_54 -0\n",
      "x2_wr_55 -0\n",
      "x2_wr_56 0\n",
      "x2_wr_57 0\n",
      "x2_wr_58 -0\n",
      "x2_wr_59 -0\n",
      "x2_wr_510 -0\n",
      "x2_wr_511 -0\n",
      "x2_wr_512 -0\n",
      "x2_wr_513 -0\n",
      "x2_wr_514 -0\n",
      "x2_wr_515 -0\n",
      "x2_wr_516 -0\n",
      "x2_wr_517 -0\n",
      "x2_wr_518 -0\n",
      "x2_wr_519 -0\n",
      "x2_wr_60 -0\n",
      "x2_wr_61 -0\n",
      "x2_wr_62 -0\n",
      "x2_wr_63 -0\n",
      "x2_wr_64 -0\n",
      "x2_wr_65 -0\n",
      "x2_wr_66 -0\n",
      "x2_wr_67 -0\n",
      "x2_wr_68 -0\n",
      "x2_wr_69 -0\n",
      "x2_wr_610 -0\n",
      "x2_wr_611 -0\n",
      "x2_wr_612 -0\n",
      "x2_wr_613 0\n",
      "x2_wr_614 -0\n",
      "x2_wr_615 -0\n",
      "x2_wr_616 -0\n",
      "x2_wr_617 0\n",
      "x2_wr_618 0\n",
      "x2_wr_619 -0\n",
      "x2_wr_70 -0\n",
      "x2_wr_71 -0\n",
      "x2_wr_72 -0\n",
      "x2_wr_73 -0\n",
      "x2_wr_74 -0\n",
      "x2_wr_75 -0\n",
      "x2_wr_76 1\n",
      "x2_wr_77 1\n",
      "x2_wr_78 1\n",
      "x2_wr_79 -0\n",
      "x2_wr_710 -0\n",
      "x2_wr_711 -0\n",
      "x2_wr_712 -0\n",
      "x2_wr_713 -0\n",
      "x2_wr_714 -0\n",
      "x2_wr_715 -0\n",
      "x2_wr_716 -0\n",
      "x2_wr_717 -0\n",
      "x2_wr_718 -0\n",
      "x2_wr_719 1\n",
      "y_0 0\n",
      "y_1 0\n",
      "y_2 0\n",
      "y_3 1\n",
      "y_4 0\n",
      "y_5 0\n",
      "y_6 0\n",
      "y_7 1\n",
      "plant_used_0 -0\n",
      "plant_used_1 1\n"
     ]
    }
   ],
   "source": [
    "for myVars in m.getVars():\n",
    "#     print(myVars)\n",
    "    print('%s %g' % (myVars.varName, myVars.x))"
   ]
  },
  {
   "cell_type": "code",
   "execution_count": 13,
   "metadata": {},
   "outputs": [
    {
     "name": "stdout",
     "output_type": "stream",
     "text": [
      "<gurobi.LinExpr: 65.0 y_0 + 80.0 y_1 + 95.0 y_2 + 95.0 y_3 + 65.0 y_4 + 80.0 y_5 + 80.0 y_6 + 95.0 y_7 + 0.00240647 x1_pw_00 + 0.00076486 x1_pw_01 + 0.00080661 x1_pw_02 + 0.000166332 x1_pw_03 + 0.00057281 x1_pw_04 + 0.00046426000000000003 x1_pw_05 + 0.00021543000000000002 x1_pw_06 + 0.00017034 x1_pw_07 + 0.0021543 x1_pw_10 + 0.0005143600000000001 x1_pw_11 + 0.0007682 x1_pw_12 + 0.00017201 x1_pw_13 + 0.00055444 x1_pw_14 + 0.0007097500000000001 x1_pw_15 + 0.00032899000000000003 x1_pw_16 + 0.0004175 x1_pw_17 + 145.252926 x2_wr_00 + 141.54409815000002 x2_wr_01 + 63.17754956000001 x2_wr_02 + 165.91314396 x2_wr_03 + 180.24964640000002 x2_wr_04 + 123.20220592000001 x2_wr_05 + 57.85926422 x2_wr_06 + 67.9888396 x2_wr_07 + 120.64833504 x2_wr_08 + 93.74623824000001 x2_wr_09 + 133.97451253 x2_wr_010 + 100.46781456 x2_wr_011 + 120.46396537000001 x2_wr_012 + 48.185351680000004 x2_wr_013 + 97.89755430000001 x2_wr_014 + 167.17039845000002 x2_wr_015 + 117.3169656 x2_wr_016 + 32.1276938 x2_wr_017 + 73.27007766000001 x2_wr_018 + 114.19924761 x2_wr_019 + 39.487276920000006 x2_wr_10 + 39.71530373 x2_wr_11 + 18.24011742 x2_wr_12 + 47.986448 x2_wr_13 + 58.008518800000004 x2_wr_14 + 38.62974194 x2_wr_15 + 31.08069732 x2_wr_16 + 33.334826580000005 x2_wr_17 + 61.93660596 x2_wr_18 + 33.66100764000001 x2_wr_19 + 48.95388902 x2_wr_110 + 29.43873328 x2_wr_111 + 27.00218324 x2_wr_112 + 12.083064560000002 x2_wr_113 + 30.053236500000004 x2_wr_114 + 50.329593270000004 x2_wr_115 + 38.59848288 x2_wr_116 + 10.61439475 x2_wr_117 + 25.109959680000003 x2_wr_118 + 40.74526287 x2_wr_119 + 43.14549876 x2_wr_20 + 42.30768648000001 x2_wr_21 + 20.114415200000003 x2_wr_22 + 56.74397476000001 x2_wr_23 + 61.1205638 x2_wr_24 + 44.91030132 x2_wr_25 + 32.17817957 x2_wr_26 + 34.60327508 x2_wr_27 + 64.21298964 x2_wr_28 + 35.32082064000001 x2_wr_29 + 23.43905287 x2_wr_210 + 19.67404288 x2_wr_211 + 35.844447470000006 x2_wr_212 + 16.857527760000004 x2_wr_213 + 27.358808400000004 x2_wr_214 + 53.30415552 x2_wr_215 + 44.4443112 x2_wr_216 + 12.2120253 x2_wr_217 + 28.641047760000003 x2_wr_218 + 42.75439812 x2_wr_219 + 4.777207344000001 x2_wr_30 + 3.5049014780000003 x2_wr_31 + 0.667432868 x2_wr_32 + 3.3110649120000004 x2_wr_33 + 13.3195526 x2_wr_34 + 6.211731332000001 x2_wr_35 + 15.18915434 x2_wr_36 + 15.01843024 x2_wr_37 + 27.601152120000002 x2_wr_38 + 9.826092960000002 x2_wr_39 + 16.4332843 x2_wr_310 + 9.909352479999999 x2_wr_311 + 13.881404060000001 x2_wr_312 + 5.912989040000001 x2_wr_313 + 4.3387201200000005 x2_wr_314 + 7.626777609 x2_wr_315 + 8.4083832 x2_wr_316 + 2.3636178 x2_wr_317 + 6.57174726 x2_wr_318 + 11.65298445 x2_wr_319 + 29.373369480000004 x2_wr_40 + 28.412514940000005 x2_wr_41 + 11.33721584 x2_wr_42 + 33.83044584 x2_wr_43 + 43.693111800000004 x2_wr_44 + 28.477604860000003 x2_wr_45 + 26.03227897 x2_wr_46 + 27.49996348 x2_wr_47 + 51.02893416 x2_wr_48 + 26.025867840000004 x2_wr_49 + 6.901979406 x2_wr_410 + 12.73026304 x2_wr_411 + 29.188979770000003 x2_wr_412 + 14.323389600000002 x2_wr_413 + 14.093931600000001 x2_wr_414 + 36.64660692 x2_wr_415 + 29.14906176 x2_wr_416 + 8.010038100000001 x2_wr_417 + 19.27385577 x2_wr_418 + 31.50324072 x2_wr_419 + 39.487276920000006 x2_wr_50 + 36.39705381 x2_wr_51 + 17.23439666 x2_wr_52 + 41.74820976 x2_wr_53 + 35.7262766 x2_wr_54 + 26.240693300000004 x2_wr_55 + 2.300322796 x2_wr_56 + 4.094551758000001 x2_wr_57 + 14.79649392 x2_wr_58 + 17.394840240000004 x2_wr_59 + 47.05108768 x2_wr_510 + 35.29754752 x2_wr_511 + 44.496555480000005 x2_wr_512 + 15.535368720000003 x2_wr_513 + 28.809654300000002 x2_wr_514 + 37.95541431 x2_wr_515 + 21.70163664 x2_wr_516 + 7.81306995 x2_wr_517 + 18.832469760000002 x2_wr_518 + 18.64477512 x2_wr_519 + 14.955671640000002 x2_wr_60 + 13.065609060000002 x2_wr_61 + 6.308612040000001 x2_wr_62 + 12.596442600000001 x2_wr_63 + 17.0540066 x2_wr_64 + 7.588292292000001 x2_wr_65 + 15.45255008 x2_wr_66 + 15.32285788 x2_wr_67 + 28.17024804 x2_wr_68 + 11.817868560000003 x2_wr_69 + 26.98518264 x2_wr_610 + 19.09539456 x2_wr_611 + 22.818746400000002 x2_wr_612 + 8.263494000000001 x2_wr_613 + 12.781261500000001 x2_wr_614 + 10.7084241 x2_wr_615 + 8.88886224 x2_wr_616 + 0.52962547 x2_wr_617 + 1.383009498 x2_wr_618 + 12.215542319999999 x2_wr_619 + 20.55059916 x2_wr_70 + 18.146679250000002 x2_wr_71 + 9.188630580000002 x2_wr_72 + 20.634172640000003 x2_wr_73 + 13.817479800000001 x2_wr_74 + 11.098522740000002 x2_wr_75 + 7.4628793 x2_wr_76 + 6.03781486 x2_wr_77 + 9.484932 x2_wr_78 + 4.2889567920000005 x2_wr_79 + 31.82867696 x2_wr_710 + 22.56728448 x2_wr_711 + 27.762808120000003 x2_wr_712 + 8.483853840000002 x2_wr_713 + 16.650183900000002 x2_wr_714 + 17.01449607 x2_wr_715 + 7.583560848 x2_wr_716 + 3.9612483500000004 x2_wr_717 + 10.20092112 x2_wr_718 + 3.4958953349999997 x2_wr_719 + 449.0 plant_used_0 + 268.0 plant_used_1>\n"
     ]
    }
   ],
   "source": [
    "print(total_carbon)"
   ]
  },
  {
   "cell_type": "code",
   "execution_count": null,
   "metadata": {},
   "outputs": [],
   "source": []
  }
 ],
 "metadata": {
  "kernelspec": {
   "display_name": "Python 3",
   "language": "python",
   "name": "python3"
  },
  "language_info": {
   "codemirror_mode": {
    "name": "ipython",
    "version": 3
   },
   "file_extension": ".py",
   "mimetype": "text/x-python",
   "name": "python",
   "nbconvert_exporter": "python",
   "pygments_lexer": "ipython3",
   "version": "3.8.3"
  }
 },
 "nbformat": 4,
 "nbformat_minor": 4
}
