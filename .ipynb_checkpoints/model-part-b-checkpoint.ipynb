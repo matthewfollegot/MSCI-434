{
 "cells": [
  {
   "cell_type": "markdown",
   "metadata": {},
   "source": [
    "## Assignment 1"
   ]
  },
  {
   "cell_type": "markdown",
   "metadata": {},
   "source": [
    "### Step 1: Import Gurobi"
   ]
  },
  {
   "cell_type": "code",
   "execution_count": 1,
   "metadata": {},
   "outputs": [],
   "source": [
    "import gurobipy as gp\n",
    "from gurobipy import GRB\n",
    "import random\n",
    "import csv\n",
    "import pprint"
   ]
  },
  {
   "cell_type": "code",
   "execution_count": 2,
   "metadata": {},
   "outputs": [],
   "source": [
    "warehouses = {\n",
    "    0:  \"thunder bay\",\n",
    "    1:  \"sudbury\",\n",
    "    2:  \"ottawa\",\n",
    "    3:  \"toronto\",\n",
    "    4:  \"kingston\",\n",
    "    5:  \"windsor\",\n",
    "    6:  \"niagara falls\",\n",
    "    7:  \"london\"\n",
    "}\n",
    "\n",
    "retailers = {\n",
    "    0:  \"vaughan\",\n",
    "    1:  \"brampton\",\n",
    "    2:  \"toronto\",\n",
    "    3:  \"mississauga\",\n",
    "    4:  \"kitchener\",\n",
    "    5:  \"hamilton\",\n",
    "    6:  \"leamington\",\n",
    "    7:  \"chatham kent\",\n",
    "    8:  \"sarnia\",\n",
    "    9:  \"stratford\",\n",
    "    10: \"bellville\",\n",
    "    11: \"peterborough\",\n",
    "    12: \"orillia\",\n",
    "    13: \"collingwood\",\n",
    "    14: \"oshawa\",\n",
    "    15: \"milton\",\n",
    "    16: \"brantford\",\n",
    "    17: \"st catherines\",\n",
    "    18: \"welland\",\n",
    "    19: \"woodstock\"\n",
    "}"
   ]
  },
  {
   "cell_type": "code",
   "execution_count": 3,
   "metadata": {},
   "outputs": [],
   "source": [
    "# # Debug Cell\n",
    "# print(distances)\n",
    "# for m in range(len(distances)):\n",
    "#     for n in range(len(distances[0])):\n",
    "#         print(f\"{warehouses[m]} -> {retailers[n]}: {distances[m][n]} km\" )"
   ]
  },
  {
   "cell_type": "markdown",
   "metadata": {},
   "source": [
    "---"
   ]
  },
  {
   "cell_type": "markdown",
   "metadata": {},
   "source": [
    "## a) Base Mathematical Model"
   ]
  },
  {
   "cell_type": "markdown",
   "metadata": {},
   "source": [
    "### Define Model"
   ]
  },
  {
   "cell_type": "code",
   "execution_count": 4,
   "metadata": {},
   "outputs": [
    {
     "name": "stdout",
     "output_type": "stream",
     "text": [
      "Using license file /Users/matthewfollegot/gurobi.lic\n",
      "Academic license - for non-commercial use only\n"
     ]
    }
   ],
   "source": [
    "m = gp.Model()"
   ]
  },
  {
   "cell_type": "markdown",
   "metadata": {},
   "source": [
    "### Sets"
   ]
  },
  {
   "cell_type": "code",
   "execution_count": 5,
   "metadata": {},
   "outputs": [],
   "source": [
    "P = ['Barrie', 'Cambridge']\n",
    "\n",
    "W = [w for w in warehouses.values()]\n",
    "\n",
    "R = [r for r in retailers.values()]"
   ]
  },
  {
   "cell_type": "markdown",
   "metadata": {},
   "source": [
    "### Parameters"
   ]
  },
  {
   "cell_type": "code",
   "execution_count": 6,
   "metadata": {},
   "outputs": [],
   "source": [
    "# Plant capacity\n",
    "Q_p = [1500, 1500]\n",
    "\n",
    "# Warehouse Capacity\n",
    "Q_w = [200, 400, 200, 800, 800, 400, 300, 600]\n",
    "\n",
    "# Warehouse Cost\n",
    "C_w = [90, 110, 150, 150, 90, 110, 110, 150]\n",
    "\n",
    "# Transportation Cost\n",
    "t = 0.187\n",
    "\n",
    "# Retailer Demand\n",
    "random.seed(20726975) # Matt's student ID\n",
    "d_r = [random.randint(10000,75000) for r in range(len(R))]\n",
    "\n",
    "# Distances\n",
    "distances = []\n",
    "\n",
    "with open ('distances.csv', newline='') as f:\n",
    "    reader = csv.reader(f, delimiter=' ')\n",
    "    for row in reader:\n",
    "        row = [float(distance) for distance in ', '.join(row).split(',')]\n",
    "        distances.append(row)\n",
    "\n",
    "D = [\n",
    "        [1441, 458, 483, 99.6, 343, 278, 129, 102],\n",
    "        [1290, 308, 460, 103, 332, 425, 197, 250]\n",
    "]"
   ]
  },
  {
   "cell_type": "markdown",
   "metadata": {},
   "source": [
    "### Decision Variables"
   ]
  },
  {
   "cell_type": "code",
   "execution_count": 7,
   "metadata": {},
   "outputs": [],
   "source": [
    "# Number of products transported from plant p to warehouse w\n",
    "x1 = {}\n",
    "for p in range(len(P)):\n",
    "    for w in range(len(W)):\n",
    "        x1[p,w] = m.addVar(lb=0.0, obj=D[p][w]*t, vtype=GRB.INTEGER, name=\"x1_pw_\"+str(p)+str(w))\n",
    "\n",
    "# Number of products transported from warehouse w to retailer r\n",
    "x2 = {}\n",
    "for w in range(len(W)):\n",
    "    for r in range(len(R)):\n",
    "        x2[w,r] = m.addVar(lb=0.0, obj=distances[w][r]*d_r[r]*t, vtype=GRB.BINARY, name=\"x2_wr_\"+str(w)+str(r))\n",
    "\n",
    "# Binary variable for whether or not warehouse w is open\n",
    "y = {}\n",
    "for w in range(len(W)):\n",
    "    y[w] = m.addVar(obj=C_w[w]*1000, vtype=GRB.BINARY, name=\"y_\"+str(w))"
   ]
  },
  {
   "cell_type": "markdown",
   "metadata": {},
   "source": [
    "### Objective Function"
   ]
  },
  {
   "cell_type": "code",
   "execution_count": 8,
   "metadata": {},
   "outputs": [],
   "source": [
    "m.modelSense = GRB.MINIMIZE"
   ]
  },
  {
   "cell_type": "markdown",
   "metadata": {},
   "source": [
    "### Constraints"
   ]
  },
  {
   "cell_type": "code",
   "execution_count": 9,
   "metadata": {},
   "outputs": [],
   "source": [
    "# Single Allocation Constraint\n",
    "for r in range(len(R)):\n",
    "    single_alloc = 0\n",
    "    for w in range(len(W)):\n",
    "        single_alloc += x2[w,r]\n",
    "    m.addConstr(single_alloc, GRB.EQUAL, 1)\n",
    "\n",
    "# Plant Production Capacity Constraint\n",
    "for p in range(len(P)):\n",
    "    cap_prod = 0\n",
    "    for w in range(len(W)):\n",
    "        cap_prod += x1[p,w]\n",
    "    m.addConstr(cap_prod, GRB.LESS_EQUAL, Q_p[p]*1000)\n",
    "    \n",
    "# Warehouse Incoming Capacity Constraint\n",
    "for w in range(len(W)):\n",
    "    cap_in = 0\n",
    "    for p in range(len(P)):\n",
    "        cap_in += x1[p,w]\n",
    "    m.addConstr(cap_in, GRB.LESS_EQUAL, Q_w[w]*1000*y[w])\n",
    "\n",
    "# Warehouse Flow Constraint\n",
    "for w in range(len(W)):\n",
    "    flow_in = 0\n",
    "    flow_out = 0\n",
    "    for p in range(len(P)):\n",
    "        flow_in += x1[p,w]\n",
    "    for r in range(len(R)):\n",
    "        # binary * demand b.c. single alloc\n",
    "        flow_out += x2[w,r]*d_r[r]\n",
    "    m.addConstr(flow_in, GRB.EQUAL, flow_out)\n",
    "\n",
    "m.update()"
   ]
  },
  {
   "cell_type": "markdown",
   "metadata": {},
   "source": [
    "### Solve the Model"
   ]
  },
  {
   "cell_type": "code",
   "execution_count": 10,
   "metadata": {},
   "outputs": [
    {
     "name": "stdout",
     "output_type": "stream",
     "text": [
      "Gurobi Optimizer version 9.0.3 build v9.0.3rc0 (mac64)\n",
      "Optimize a model with 38 rows, 184 columns and 376 nonzeros\n",
      "Model fingerprint: 0x2b753cb9\n",
      "Variable types: 0 continuous, 184 integer (168 binary)\n",
      "Coefficient statistics:\n",
      "  Matrix range     [1e+00, 8e+05]\n",
      "  Objective range  [2e+01, 2e+07]\n",
      "  Bounds range     [1e+00, 1e+00]\n",
      "  RHS range        [1e+00, 2e+06]\n",
      "Presolve time: 0.00s\n",
      "Presolved: 38 rows, 184 columns, 376 nonzeros\n",
      "Variable types: 0 continuous, 184 integer (168 binary)\n",
      "Found heuristic solution: objective 4.291033e+07\n",
      "\n",
      "Root relaxation: objective 3.244311e+07, 34 iterations, 0.00 seconds\n",
      "\n",
      "    Nodes    |    Current Node    |     Objective Bounds      |     Work\n",
      " Expl Unexpl |  Obj  Depth IntInf | Incumbent    BestBd   Gap | It/Node Time\n",
      "\n",
      "     0     0 3.2443e+07    0    3 4.2910e+07 3.2443e+07  24.4%     -    0s\n",
      "H    0     0                    3.265551e+07 3.2443e+07  0.65%     -    0s\n",
      "     0     0     cutoff    0      3.2656e+07 3.2656e+07  0.00%     -    0s\n",
      "\n",
      "Cutting planes:\n",
      "  Gomory: 1\n",
      "\n",
      "Explored 1 nodes (36 simplex iterations) in 0.08 seconds\n",
      "Thread count was 4 (of 4 available processors)\n",
      "\n",
      "Solution count 2: 3.26555e+07 4.29103e+07 \n",
      "\n",
      "Optimal solution found (tolerance 1.00e-04)\n",
      "Best objective 3.265550959740e+07, best bound 3.265550959740e+07, gap 0.0000%\n"
     ]
    }
   ],
   "source": [
    "m.optimize()"
   ]
  },
  {
   "cell_type": "code",
   "execution_count": 11,
   "metadata": {
    "scrolled": true
   },
   "outputs": [
    {
     "name": "stdout",
     "output_type": "stream",
     "text": [
      "{(0, 0): <gurobi.Var x1_pw_00 (value -0.0)>, (0, 1): <gurobi.Var x1_pw_01 (value -0.0)>, (0, 2): <gurobi.Var x1_pw_02 (value -0.0)>, (0, 3): <gurobi.Var x1_pw_03 (value 638434.0)>, (0, 4): <gurobi.Var x1_pw_04 (value -0.0)>, (0, 5): <gurobi.Var x1_pw_05 (value -0.0)>, (0, 6): <gurobi.Var x1_pw_06 (value 42472.0)>, (0, 7): <gurobi.Var x1_pw_07 (value 249296.0)>, (1, 0): <gurobi.Var x1_pw_10 (value -0.0)>, (1, 1): <gurobi.Var x1_pw_11 (value -0.0)>, (1, 2): <gurobi.Var x1_pw_12 (value -0.0)>, (1, 3): <gurobi.Var x1_pw_13 (value -0.0)>, (1, 4): <gurobi.Var x1_pw_14 (value -0.0)>, (1, 5): <gurobi.Var x1_pw_15 (value -0.0)>, (1, 6): <gurobi.Var x1_pw_16 (value -0.0)>, (1, 7): <gurobi.Var x1_pw_17 (value -0.0)>}\n",
      "{(0, 0): <gurobi.Var x2_wr_00 (value -0.0)>, (0, 1): <gurobi.Var x2_wr_01 (value -0.0)>, (0, 2): <gurobi.Var x2_wr_02 (value -0.0)>, (0, 3): <gurobi.Var x2_wr_03 (value -0.0)>, (0, 4): <gurobi.Var x2_wr_04 (value -0.0)>, (0, 5): <gurobi.Var x2_wr_05 (value -0.0)>, (0, 6): <gurobi.Var x2_wr_06 (value -0.0)>, (0, 7): <gurobi.Var x2_wr_07 (value -0.0)>, (0, 8): <gurobi.Var x2_wr_08 (value -0.0)>, (0, 9): <gurobi.Var x2_wr_09 (value -0.0)>, (0, 10): <gurobi.Var x2_wr_010 (value -0.0)>, (0, 11): <gurobi.Var x2_wr_011 (value -0.0)>, (0, 12): <gurobi.Var x2_wr_012 (value -0.0)>, (0, 13): <gurobi.Var x2_wr_013 (value -0.0)>, (0, 14): <gurobi.Var x2_wr_014 (value -0.0)>, (0, 15): <gurobi.Var x2_wr_015 (value -0.0)>, (0, 16): <gurobi.Var x2_wr_016 (value -0.0)>, (0, 17): <gurobi.Var x2_wr_017 (value -0.0)>, (0, 18): <gurobi.Var x2_wr_018 (value -0.0)>, (0, 19): <gurobi.Var x2_wr_019 (value -0.0)>, (1, 0): <gurobi.Var x2_wr_10 (value -0.0)>, (1, 1): <gurobi.Var x2_wr_11 (value -0.0)>, (1, 2): <gurobi.Var x2_wr_12 (value -0.0)>, (1, 3): <gurobi.Var x2_wr_13 (value -0.0)>, (1, 4): <gurobi.Var x2_wr_14 (value -0.0)>, (1, 5): <gurobi.Var x2_wr_15 (value -0.0)>, (1, 6): <gurobi.Var x2_wr_16 (value -0.0)>, (1, 7): <gurobi.Var x2_wr_17 (value -0.0)>, (1, 8): <gurobi.Var x2_wr_18 (value -0.0)>, (1, 9): <gurobi.Var x2_wr_19 (value -0.0)>, (1, 10): <gurobi.Var x2_wr_110 (value -0.0)>, (1, 11): <gurobi.Var x2_wr_111 (value -0.0)>, (1, 12): <gurobi.Var x2_wr_112 (value -0.0)>, (1, 13): <gurobi.Var x2_wr_113 (value 0.0)>, (1, 14): <gurobi.Var x2_wr_114 (value -0.0)>, (1, 15): <gurobi.Var x2_wr_115 (value -0.0)>, (1, 16): <gurobi.Var x2_wr_116 (value -0.0)>, (1, 17): <gurobi.Var x2_wr_117 (value -0.0)>, (1, 18): <gurobi.Var x2_wr_118 (value -0.0)>, (1, 19): <gurobi.Var x2_wr_119 (value -0.0)>, (2, 0): <gurobi.Var x2_wr_20 (value -0.0)>, (2, 1): <gurobi.Var x2_wr_21 (value -0.0)>, (2, 2): <gurobi.Var x2_wr_22 (value -0.0)>, (2, 3): <gurobi.Var x2_wr_23 (value -0.0)>, (2, 4): <gurobi.Var x2_wr_24 (value -0.0)>, (2, 5): <gurobi.Var x2_wr_25 (value -0.0)>, (2, 6): <gurobi.Var x2_wr_26 (value -0.0)>, (2, 7): <gurobi.Var x2_wr_27 (value -0.0)>, (2, 8): <gurobi.Var x2_wr_28 (value -0.0)>, (2, 9): <gurobi.Var x2_wr_29 (value -0.0)>, (2, 10): <gurobi.Var x2_wr_210 (value 0.0)>, (2, 11): <gurobi.Var x2_wr_211 (value 0.0)>, (2, 12): <gurobi.Var x2_wr_212 (value -0.0)>, (2, 13): <gurobi.Var x2_wr_213 (value -0.0)>, (2, 14): <gurobi.Var x2_wr_214 (value -0.0)>, (2, 15): <gurobi.Var x2_wr_215 (value -0.0)>, (2, 16): <gurobi.Var x2_wr_216 (value -0.0)>, (2, 17): <gurobi.Var x2_wr_217 (value -0.0)>, (2, 18): <gurobi.Var x2_wr_218 (value -0.0)>, (2, 19): <gurobi.Var x2_wr_219 (value -0.0)>, (3, 0): <gurobi.Var x2_wr_30 (value 1.0)>, (3, 1): <gurobi.Var x2_wr_31 (value 1.0)>, (3, 2): <gurobi.Var x2_wr_32 (value 1.0)>, (3, 3): <gurobi.Var x2_wr_33 (value 1.0)>, (3, 4): <gurobi.Var x2_wr_34 (value 1.0)>, (3, 5): <gurobi.Var x2_wr_35 (value 1.0)>, (3, 6): <gurobi.Var x2_wr_36 (value -0.0)>, (3, 7): <gurobi.Var x2_wr_37 (value -0.0)>, (3, 8): <gurobi.Var x2_wr_38 (value -0.0)>, (3, 9): <gurobi.Var x2_wr_39 (value -0.0)>, (3, 10): <gurobi.Var x2_wr_310 (value 1.0)>, (3, 11): <gurobi.Var x2_wr_311 (value 1.0)>, (3, 12): <gurobi.Var x2_wr_312 (value 1.0)>, (3, 13): <gurobi.Var x2_wr_313 (value 1.0)>, (3, 14): <gurobi.Var x2_wr_314 (value 1.0)>, (3, 15): <gurobi.Var x2_wr_315 (value 1.0)>, (3, 16): <gurobi.Var x2_wr_316 (value 0.0)>, (3, 17): <gurobi.Var x2_wr_317 (value -0.0)>, (3, 18): <gurobi.Var x2_wr_318 (value -0.0)>, (3, 19): <gurobi.Var x2_wr_319 (value -0.0)>, (4, 0): <gurobi.Var x2_wr_40 (value -0.0)>, (4, 1): <gurobi.Var x2_wr_41 (value -0.0)>, (4, 2): <gurobi.Var x2_wr_42 (value -0.0)>, (4, 3): <gurobi.Var x2_wr_43 (value -0.0)>, (4, 4): <gurobi.Var x2_wr_44 (value -0.0)>, (4, 5): <gurobi.Var x2_wr_45 (value -0.0)>, (4, 6): <gurobi.Var x2_wr_46 (value -0.0)>, (4, 7): <gurobi.Var x2_wr_47 (value -0.0)>, (4, 8): <gurobi.Var x2_wr_48 (value -0.0)>, (4, 9): <gurobi.Var x2_wr_49 (value -0.0)>, (4, 10): <gurobi.Var x2_wr_410 (value 0.0)>, (4, 11): <gurobi.Var x2_wr_411 (value -0.0)>, (4, 12): <gurobi.Var x2_wr_412 (value -0.0)>, (4, 13): <gurobi.Var x2_wr_413 (value -0.0)>, (4, 14): <gurobi.Var x2_wr_414 (value -0.0)>, (4, 15): <gurobi.Var x2_wr_415 (value -0.0)>, (4, 16): <gurobi.Var x2_wr_416 (value -0.0)>, (4, 17): <gurobi.Var x2_wr_417 (value -0.0)>, (4, 18): <gurobi.Var x2_wr_418 (value -0.0)>, (4, 19): <gurobi.Var x2_wr_419 (value -0.0)>, (5, 0): <gurobi.Var x2_wr_50 (value -0.0)>, (5, 1): <gurobi.Var x2_wr_51 (value -0.0)>, (5, 2): <gurobi.Var x2_wr_52 (value -0.0)>, (5, 3): <gurobi.Var x2_wr_53 (value -0.0)>, (5, 4): <gurobi.Var x2_wr_54 (value -0.0)>, (5, 5): <gurobi.Var x2_wr_55 (value -0.0)>, (5, 6): <gurobi.Var x2_wr_56 (value 0.0)>, (5, 7): <gurobi.Var x2_wr_57 (value 0.0)>, (5, 8): <gurobi.Var x2_wr_58 (value -0.0)>, (5, 9): <gurobi.Var x2_wr_59 (value -0.0)>, (5, 10): <gurobi.Var x2_wr_510 (value -0.0)>, (5, 11): <gurobi.Var x2_wr_511 (value -0.0)>, (5, 12): <gurobi.Var x2_wr_512 (value -0.0)>, (5, 13): <gurobi.Var x2_wr_513 (value -0.0)>, (5, 14): <gurobi.Var x2_wr_514 (value -0.0)>, (5, 15): <gurobi.Var x2_wr_515 (value -0.0)>, (5, 16): <gurobi.Var x2_wr_516 (value -0.0)>, (5, 17): <gurobi.Var x2_wr_517 (value -0.0)>, (5, 18): <gurobi.Var x2_wr_518 (value -0.0)>, (5, 19): <gurobi.Var x2_wr_519 (value -0.0)>, (6, 0): <gurobi.Var x2_wr_60 (value -0.0)>, (6, 1): <gurobi.Var x2_wr_61 (value -0.0)>, (6, 2): <gurobi.Var x2_wr_62 (value -0.0)>, (6, 3): <gurobi.Var x2_wr_63 (value -0.0)>, (6, 4): <gurobi.Var x2_wr_64 (value -0.0)>, (6, 5): <gurobi.Var x2_wr_65 (value 0.0)>, (6, 6): <gurobi.Var x2_wr_66 (value -0.0)>, (6, 7): <gurobi.Var x2_wr_67 (value -0.0)>, (6, 8): <gurobi.Var x2_wr_68 (value -0.0)>, (6, 9): <gurobi.Var x2_wr_69 (value -0.0)>, (6, 10): <gurobi.Var x2_wr_610 (value -0.0)>, (6, 11): <gurobi.Var x2_wr_611 (value -0.0)>, (6, 12): <gurobi.Var x2_wr_612 (value -0.0)>, (6, 13): <gurobi.Var x2_wr_613 (value -0.0)>, (6, 14): <gurobi.Var x2_wr_614 (value -0.0)>, (6, 15): <gurobi.Var x2_wr_615 (value -0.0)>, (6, 16): <gurobi.Var x2_wr_616 (value -0.0)>, (6, 17): <gurobi.Var x2_wr_617 (value 1.0)>, (6, 18): <gurobi.Var x2_wr_618 (value 1.0)>, (6, 19): <gurobi.Var x2_wr_619 (value -0.0)>, (7, 0): <gurobi.Var x2_wr_70 (value -0.0)>, (7, 1): <gurobi.Var x2_wr_71 (value -0.0)>, (7, 2): <gurobi.Var x2_wr_72 (value -0.0)>, (7, 3): <gurobi.Var x2_wr_73 (value -0.0)>, (7, 4): <gurobi.Var x2_wr_74 (value -0.0)>, (7, 5): <gurobi.Var x2_wr_75 (value -0.0)>, (7, 6): <gurobi.Var x2_wr_76 (value 1.0)>, (7, 7): <gurobi.Var x2_wr_77 (value 1.0)>, (7, 8): <gurobi.Var x2_wr_78 (value 1.0)>, (7, 9): <gurobi.Var x2_wr_79 (value 1.0)>, (7, 10): <gurobi.Var x2_wr_710 (value -0.0)>, (7, 11): <gurobi.Var x2_wr_711 (value -0.0)>, (7, 12): <gurobi.Var x2_wr_712 (value -0.0)>, (7, 13): <gurobi.Var x2_wr_713 (value 0.0)>, (7, 14): <gurobi.Var x2_wr_714 (value -0.0)>, (7, 15): <gurobi.Var x2_wr_715 (value -0.0)>, (7, 16): <gurobi.Var x2_wr_716 (value 1.0)>, (7, 17): <gurobi.Var x2_wr_717 (value -0.0)>, (7, 18): <gurobi.Var x2_wr_718 (value -0.0)>, (7, 19): <gurobi.Var x2_wr_719 (value 1.0)>}\n",
      "[<gurobi.Var x1_pw_00 (value -0.0)>, <gurobi.Var x1_pw_01 (value -0.0)>, <gurobi.Var x1_pw_02 (value -0.0)>, <gurobi.Var x1_pw_03 (value 638434.0)>, <gurobi.Var x1_pw_04 (value -0.0)>, <gurobi.Var x1_pw_05 (value -0.0)>, <gurobi.Var x1_pw_06 (value 42472.0)>, <gurobi.Var x1_pw_07 (value 249296.0)>, <gurobi.Var x1_pw_10 (value -0.0)>, <gurobi.Var x1_pw_11 (value -0.0)>, <gurobi.Var x1_pw_12 (value -0.0)>, <gurobi.Var x1_pw_13 (value -0.0)>, <gurobi.Var x1_pw_14 (value -0.0)>, <gurobi.Var x1_pw_15 (value -0.0)>, <gurobi.Var x1_pw_16 (value -0.0)>, <gurobi.Var x1_pw_17 (value -0.0)>, <gurobi.Var x2_wr_00 (value -0.0)>, <gurobi.Var x2_wr_01 (value -0.0)>, <gurobi.Var x2_wr_02 (value -0.0)>, <gurobi.Var x2_wr_03 (value -0.0)>, <gurobi.Var x2_wr_04 (value -0.0)>, <gurobi.Var x2_wr_05 (value -0.0)>, <gurobi.Var x2_wr_06 (value -0.0)>, <gurobi.Var x2_wr_07 (value -0.0)>, <gurobi.Var x2_wr_08 (value -0.0)>, <gurobi.Var x2_wr_09 (value -0.0)>, <gurobi.Var x2_wr_010 (value -0.0)>, <gurobi.Var x2_wr_011 (value -0.0)>, <gurobi.Var x2_wr_012 (value -0.0)>, <gurobi.Var x2_wr_013 (value -0.0)>, <gurobi.Var x2_wr_014 (value -0.0)>, <gurobi.Var x2_wr_015 (value -0.0)>, <gurobi.Var x2_wr_016 (value -0.0)>, <gurobi.Var x2_wr_017 (value -0.0)>, <gurobi.Var x2_wr_018 (value -0.0)>, <gurobi.Var x2_wr_019 (value -0.0)>, <gurobi.Var x2_wr_10 (value -0.0)>, <gurobi.Var x2_wr_11 (value -0.0)>, <gurobi.Var x2_wr_12 (value -0.0)>, <gurobi.Var x2_wr_13 (value -0.0)>, <gurobi.Var x2_wr_14 (value -0.0)>, <gurobi.Var x2_wr_15 (value -0.0)>, <gurobi.Var x2_wr_16 (value -0.0)>, <gurobi.Var x2_wr_17 (value -0.0)>, <gurobi.Var x2_wr_18 (value -0.0)>, <gurobi.Var x2_wr_19 (value -0.0)>, <gurobi.Var x2_wr_110 (value -0.0)>, <gurobi.Var x2_wr_111 (value -0.0)>, <gurobi.Var x2_wr_112 (value -0.0)>, <gurobi.Var x2_wr_113 (value 0.0)>, <gurobi.Var x2_wr_114 (value -0.0)>, <gurobi.Var x2_wr_115 (value -0.0)>, <gurobi.Var x2_wr_116 (value -0.0)>, <gurobi.Var x2_wr_117 (value -0.0)>, <gurobi.Var x2_wr_118 (value -0.0)>, <gurobi.Var x2_wr_119 (value -0.0)>, <gurobi.Var x2_wr_20 (value -0.0)>, <gurobi.Var x2_wr_21 (value -0.0)>, <gurobi.Var x2_wr_22 (value -0.0)>, <gurobi.Var x2_wr_23 (value -0.0)>, <gurobi.Var x2_wr_24 (value -0.0)>, <gurobi.Var x2_wr_25 (value -0.0)>, <gurobi.Var x2_wr_26 (value -0.0)>, <gurobi.Var x2_wr_27 (value -0.0)>, <gurobi.Var x2_wr_28 (value -0.0)>, <gurobi.Var x2_wr_29 (value -0.0)>, <gurobi.Var x2_wr_210 (value 0.0)>, <gurobi.Var x2_wr_211 (value 0.0)>, <gurobi.Var x2_wr_212 (value -0.0)>, <gurobi.Var x2_wr_213 (value -0.0)>, <gurobi.Var x2_wr_214 (value -0.0)>, <gurobi.Var x2_wr_215 (value -0.0)>, <gurobi.Var x2_wr_216 (value -0.0)>, <gurobi.Var x2_wr_217 (value -0.0)>, <gurobi.Var x2_wr_218 (value -0.0)>, <gurobi.Var x2_wr_219 (value -0.0)>, <gurobi.Var x2_wr_30 (value 1.0)>, <gurobi.Var x2_wr_31 (value 1.0)>, <gurobi.Var x2_wr_32 (value 1.0)>, <gurobi.Var x2_wr_33 (value 1.0)>, <gurobi.Var x2_wr_34 (value 1.0)>, <gurobi.Var x2_wr_35 (value 1.0)>, <gurobi.Var x2_wr_36 (value -0.0)>, <gurobi.Var x2_wr_37 (value -0.0)>, <gurobi.Var x2_wr_38 (value -0.0)>, <gurobi.Var x2_wr_39 (value -0.0)>, <gurobi.Var x2_wr_310 (value 1.0)>, <gurobi.Var x2_wr_311 (value 1.0)>, <gurobi.Var x2_wr_312 (value 1.0)>, <gurobi.Var x2_wr_313 (value 1.0)>, <gurobi.Var x2_wr_314 (value 1.0)>, <gurobi.Var x2_wr_315 (value 1.0)>, <gurobi.Var x2_wr_316 (value 0.0)>, <gurobi.Var x2_wr_317 (value -0.0)>, <gurobi.Var x2_wr_318 (value -0.0)>, <gurobi.Var x2_wr_319 (value -0.0)>, <gurobi.Var x2_wr_40 (value -0.0)>, <gurobi.Var x2_wr_41 (value -0.0)>, <gurobi.Var x2_wr_42 (value -0.0)>, <gurobi.Var x2_wr_43 (value -0.0)>, <gurobi.Var x2_wr_44 (value -0.0)>, <gurobi.Var x2_wr_45 (value -0.0)>, <gurobi.Var x2_wr_46 (value -0.0)>, <gurobi.Var x2_wr_47 (value -0.0)>, <gurobi.Var x2_wr_48 (value -0.0)>, <gurobi.Var x2_wr_49 (value -0.0)>, <gurobi.Var x2_wr_410 (value 0.0)>, <gurobi.Var x2_wr_411 (value -0.0)>, <gurobi.Var x2_wr_412 (value -0.0)>, <gurobi.Var x2_wr_413 (value -0.0)>, <gurobi.Var x2_wr_414 (value -0.0)>, <gurobi.Var x2_wr_415 (value -0.0)>, <gurobi.Var x2_wr_416 (value -0.0)>, <gurobi.Var x2_wr_417 (value -0.0)>, <gurobi.Var x2_wr_418 (value -0.0)>, <gurobi.Var x2_wr_419 (value -0.0)>, <gurobi.Var x2_wr_50 (value -0.0)>, <gurobi.Var x2_wr_51 (value -0.0)>, <gurobi.Var x2_wr_52 (value -0.0)>, <gurobi.Var x2_wr_53 (value -0.0)>, <gurobi.Var x2_wr_54 (value -0.0)>, <gurobi.Var x2_wr_55 (value -0.0)>, <gurobi.Var x2_wr_56 (value 0.0)>, <gurobi.Var x2_wr_57 (value 0.0)>, <gurobi.Var x2_wr_58 (value -0.0)>, <gurobi.Var x2_wr_59 (value -0.0)>, <gurobi.Var x2_wr_510 (value -0.0)>, <gurobi.Var x2_wr_511 (value -0.0)>, <gurobi.Var x2_wr_512 (value -0.0)>, <gurobi.Var x2_wr_513 (value -0.0)>, <gurobi.Var x2_wr_514 (value -0.0)>, <gurobi.Var x2_wr_515 (value -0.0)>, <gurobi.Var x2_wr_516 (value -0.0)>, <gurobi.Var x2_wr_517 (value -0.0)>, <gurobi.Var x2_wr_518 (value -0.0)>, <gurobi.Var x2_wr_519 (value -0.0)>, <gurobi.Var x2_wr_60 (value -0.0)>, <gurobi.Var x2_wr_61 (value -0.0)>, <gurobi.Var x2_wr_62 (value -0.0)>, <gurobi.Var x2_wr_63 (value -0.0)>, <gurobi.Var x2_wr_64 (value -0.0)>, <gurobi.Var x2_wr_65 (value 0.0)>, <gurobi.Var x2_wr_66 (value -0.0)>, <gurobi.Var x2_wr_67 (value -0.0)>, <gurobi.Var x2_wr_68 (value -0.0)>, <gurobi.Var x2_wr_69 (value -0.0)>, <gurobi.Var x2_wr_610 (value -0.0)>, <gurobi.Var x2_wr_611 (value -0.0)>, <gurobi.Var x2_wr_612 (value -0.0)>, <gurobi.Var x2_wr_613 (value -0.0)>, <gurobi.Var x2_wr_614 (value -0.0)>, <gurobi.Var x2_wr_615 (value -0.0)>, <gurobi.Var x2_wr_616 (value -0.0)>, <gurobi.Var x2_wr_617 (value 1.0)>, <gurobi.Var x2_wr_618 (value 1.0)>, <gurobi.Var x2_wr_619 (value -0.0)>, <gurobi.Var x2_wr_70 (value -0.0)>, <gurobi.Var x2_wr_71 (value -0.0)>, <gurobi.Var x2_wr_72 (value -0.0)>, <gurobi.Var x2_wr_73 (value -0.0)>, <gurobi.Var x2_wr_74 (value -0.0)>, <gurobi.Var x2_wr_75 (value -0.0)>, <gurobi.Var x2_wr_76 (value 1.0)>, <gurobi.Var x2_wr_77 (value 1.0)>, <gurobi.Var x2_wr_78 (value 1.0)>, <gurobi.Var x2_wr_79 (value 1.0)>, <gurobi.Var x2_wr_710 (value -0.0)>, <gurobi.Var x2_wr_711 (value -0.0)>, <gurobi.Var x2_wr_712 (value -0.0)>, <gurobi.Var x2_wr_713 (value 0.0)>, <gurobi.Var x2_wr_714 (value -0.0)>, <gurobi.Var x2_wr_715 (value -0.0)>, <gurobi.Var x2_wr_716 (value 1.0)>, <gurobi.Var x2_wr_717 (value -0.0)>, <gurobi.Var x2_wr_718 (value -0.0)>, <gurobi.Var x2_wr_719 (value 1.0)>, <gurobi.Var y_0 (value -0.0)>, <gurobi.Var y_1 (value -0.0)>, <gurobi.Var y_2 (value -0.0)>, <gurobi.Var y_3 (value 1.0)>, <gurobi.Var y_4 (value -0.0)>, <gurobi.Var y_5 (value -0.0)>, <gurobi.Var y_6 (value 1.0)>, <gurobi.Var y_7 (value 1.0)>]\n"
     ]
    }
   ],
   "source": [
    "# print(y)\n",
    "print(x1)\n",
    "print(x2)\n",
    "print(m.getVars())"
   ]
  },
  {
   "cell_type": "code",
   "execution_count": 12,
   "metadata": {
    "scrolled": false
   },
   "outputs": [
    {
     "name": "stdout",
     "output_type": "stream",
     "text": [
      "x1_pw_00 -0\n",
      "x1_pw_01 -0\n",
      "x1_pw_02 -0\n",
      "x1_pw_03 638434\n",
      "x1_pw_04 -0\n",
      "x1_pw_05 -0\n",
      "x1_pw_06 42472\n",
      "x1_pw_07 249296\n",
      "x1_pw_10 -0\n",
      "x1_pw_11 -0\n",
      "x1_pw_12 -0\n",
      "x1_pw_13 -0\n",
      "x1_pw_14 -0\n",
      "x1_pw_15 -0\n",
      "x1_pw_16 -0\n",
      "x1_pw_17 -0\n",
      "x2_wr_00 -0\n",
      "x2_wr_01 -0\n",
      "x2_wr_02 -0\n",
      "x2_wr_03 -0\n",
      "x2_wr_04 -0\n",
      "x2_wr_05 -0\n",
      "x2_wr_06 -0\n",
      "x2_wr_07 -0\n",
      "x2_wr_08 -0\n",
      "x2_wr_09 -0\n",
      "x2_wr_010 -0\n",
      "x2_wr_011 -0\n",
      "x2_wr_012 -0\n",
      "x2_wr_013 -0\n",
      "x2_wr_014 -0\n",
      "x2_wr_015 -0\n",
      "x2_wr_016 -0\n",
      "x2_wr_017 -0\n",
      "x2_wr_018 -0\n",
      "x2_wr_019 -0\n",
      "x2_wr_10 -0\n",
      "x2_wr_11 -0\n",
      "x2_wr_12 -0\n",
      "x2_wr_13 -0\n",
      "x2_wr_14 -0\n",
      "x2_wr_15 -0\n",
      "x2_wr_16 -0\n",
      "x2_wr_17 -0\n",
      "x2_wr_18 -0\n",
      "x2_wr_19 -0\n",
      "x2_wr_110 -0\n",
      "x2_wr_111 -0\n",
      "x2_wr_112 -0\n",
      "x2_wr_113 0\n",
      "x2_wr_114 -0\n",
      "x2_wr_115 -0\n",
      "x2_wr_116 -0\n",
      "x2_wr_117 -0\n",
      "x2_wr_118 -0\n",
      "x2_wr_119 -0\n",
      "x2_wr_20 -0\n",
      "x2_wr_21 -0\n",
      "x2_wr_22 -0\n",
      "x2_wr_23 -0\n",
      "x2_wr_24 -0\n",
      "x2_wr_25 -0\n",
      "x2_wr_26 -0\n",
      "x2_wr_27 -0\n",
      "x2_wr_28 -0\n",
      "x2_wr_29 -0\n",
      "x2_wr_210 0\n",
      "x2_wr_211 0\n",
      "x2_wr_212 -0\n",
      "x2_wr_213 -0\n",
      "x2_wr_214 -0\n",
      "x2_wr_215 -0\n",
      "x2_wr_216 -0\n",
      "x2_wr_217 -0\n",
      "x2_wr_218 -0\n",
      "x2_wr_219 -0\n",
      "x2_wr_30 1\n",
      "x2_wr_31 1\n",
      "x2_wr_32 1\n",
      "x2_wr_33 1\n",
      "x2_wr_34 1\n",
      "x2_wr_35 1\n",
      "x2_wr_36 -0\n",
      "x2_wr_37 -0\n",
      "x2_wr_38 -0\n",
      "x2_wr_39 -0\n",
      "x2_wr_310 1\n",
      "x2_wr_311 1\n",
      "x2_wr_312 1\n",
      "x2_wr_313 1\n",
      "x2_wr_314 1\n",
      "x2_wr_315 1\n",
      "x2_wr_316 0\n",
      "x2_wr_317 -0\n",
      "x2_wr_318 -0\n",
      "x2_wr_319 -0\n",
      "x2_wr_40 -0\n",
      "x2_wr_41 -0\n",
      "x2_wr_42 -0\n",
      "x2_wr_43 -0\n",
      "x2_wr_44 -0\n",
      "x2_wr_45 -0\n",
      "x2_wr_46 -0\n",
      "x2_wr_47 -0\n",
      "x2_wr_48 -0\n",
      "x2_wr_49 -0\n",
      "x2_wr_410 0\n",
      "x2_wr_411 -0\n",
      "x2_wr_412 -0\n",
      "x2_wr_413 -0\n",
      "x2_wr_414 -0\n",
      "x2_wr_415 -0\n",
      "x2_wr_416 -0\n",
      "x2_wr_417 -0\n",
      "x2_wr_418 -0\n",
      "x2_wr_419 -0\n",
      "x2_wr_50 -0\n",
      "x2_wr_51 -0\n",
      "x2_wr_52 -0\n",
      "x2_wr_53 -0\n",
      "x2_wr_54 -0\n",
      "x2_wr_55 -0\n",
      "x2_wr_56 0\n",
      "x2_wr_57 0\n",
      "x2_wr_58 -0\n",
      "x2_wr_59 -0\n",
      "x2_wr_510 -0\n",
      "x2_wr_511 -0\n",
      "x2_wr_512 -0\n",
      "x2_wr_513 -0\n",
      "x2_wr_514 -0\n",
      "x2_wr_515 -0\n",
      "x2_wr_516 -0\n",
      "x2_wr_517 -0\n",
      "x2_wr_518 -0\n",
      "x2_wr_519 -0\n",
      "x2_wr_60 -0\n",
      "x2_wr_61 -0\n",
      "x2_wr_62 -0\n",
      "x2_wr_63 -0\n",
      "x2_wr_64 -0\n",
      "x2_wr_65 0\n",
      "x2_wr_66 -0\n",
      "x2_wr_67 -0\n",
      "x2_wr_68 -0\n",
      "x2_wr_69 -0\n",
      "x2_wr_610 -0\n",
      "x2_wr_611 -0\n",
      "x2_wr_612 -0\n",
      "x2_wr_613 -0\n",
      "x2_wr_614 -0\n",
      "x2_wr_615 -0\n",
      "x2_wr_616 -0\n",
      "x2_wr_617 1\n",
      "x2_wr_618 1\n",
      "x2_wr_619 -0\n",
      "x2_wr_70 -0\n",
      "x2_wr_71 -0\n",
      "x2_wr_72 -0\n",
      "x2_wr_73 -0\n",
      "x2_wr_74 -0\n",
      "x2_wr_75 -0\n",
      "x2_wr_76 1\n",
      "x2_wr_77 1\n",
      "x2_wr_78 1\n",
      "x2_wr_79 1\n",
      "x2_wr_710 -0\n",
      "x2_wr_711 -0\n",
      "x2_wr_712 -0\n",
      "x2_wr_713 0\n",
      "x2_wr_714 -0\n",
      "x2_wr_715 -0\n",
      "x2_wr_716 1\n",
      "x2_wr_717 -0\n",
      "x2_wr_718 -0\n",
      "x2_wr_719 1\n",
      "y_0 -0\n",
      "y_1 -0\n",
      "y_2 -0\n",
      "y_3 1\n",
      "y_4 -0\n",
      "y_5 -0\n",
      "y_6 1\n",
      "y_7 1\n"
     ]
    }
   ],
   "source": [
    "for myVars in m.getVars():\n",
    "    #print(myVars)\n",
    "    print('%s %g' % (myVars.varName, myVars.x))"
   ]
  }
 ],
 "metadata": {
  "kernelspec": {
   "display_name": "Python 3",
   "language": "python",
   "name": "python3"
  },
  "language_info": {
   "codemirror_mode": {
    "name": "ipython",
    "version": 3
   },
   "file_extension": ".py",
   "mimetype": "text/x-python",
   "name": "python",
   "nbconvert_exporter": "python",
   "pygments_lexer": "ipython3",
   "version": "3.8.3"
  }
 },
 "nbformat": 4,
 "nbformat_minor": 4
}
